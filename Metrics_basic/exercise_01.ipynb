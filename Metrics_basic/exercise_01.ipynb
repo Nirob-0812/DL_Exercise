{
 "cells": [
  {
   "cell_type": "code",
   "execution_count": 6,
   "metadata": {},
   "outputs": [
    {
     "data": {
      "text/plain": [
       "array([[200, 220, 250],\n",
       "       [ 68,  79, 105],\n",
       "       [110, 140, 180],\n",
       "       [ 80,  85,  90]])"
      ]
     },
     "execution_count": 6,
     "metadata": {},
     "output_type": "execute_result"
    }
   ],
   "source": [
    "import numpy as np\n",
    "\n",
    "revenue_in_usd=np.array([[200,220,250],[68,79,105],[110,140,180],[80,85,90]])\n",
    "revenue_in_usd"
   ]
  },
  {
   "cell_type": "code",
   "execution_count": 9,
   "metadata": {},
   "outputs": [
    {
     "data": {
      "text/plain": [
       "array([[15000, 16500, 18750],\n",
       "       [ 5100,  5925,  7875],\n",
       "       [ 8250, 10500, 13500],\n",
       "       [ 6000,  6375,  6750]])"
      ]
     },
     "execution_count": 9,
     "metadata": {},
     "output_type": "execute_result"
    }
   ],
   "source": [
    "#Converting USD to INR\n",
    "\n",
    "revenue_in_inr=revenue_in_usd*75\n",
    "revenue_in_inr"
   ]
  }
 ],
 "metadata": {
  "kernelspec": {
   "display_name": "venv",
   "language": "python",
   "name": "python3"
  },
  "language_info": {
   "codemirror_mode": {
    "name": "ipython",
    "version": 3
   },
   "file_extension": ".py",
   "mimetype": "text/x-python",
   "name": "python",
   "nbconvert_exporter": "python",
   "pygments_lexer": "ipython3",
   "version": "3.10.7"
  },
  "orig_nbformat": 4
 },
 "nbformat": 4,
 "nbformat_minor": 2
}
